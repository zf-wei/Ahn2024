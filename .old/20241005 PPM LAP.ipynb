{
 "cells": [
  {
   "cell_type": "markdown",
   "id": "0f180175",
   "metadata": {},
   "source": [
    "稀疏化比例 epsilon = 0.1\n",
    "\n",
    "RAW_SCORE 这个文件中 对于每个mu值（可以看作第零个坐标）\n",
    "\n",
    "第一个坐标是样本编号\n",
    "\n",
    "第二个坐标 0 代表稀疏化的网络 1 代表原网络\n",
    "\n",
    "第三个坐标是方法 ['Euclidean NMI', 'Spherical NMI', 'Euclidean ECS', 'Spherical ECS']\n",
    "\n",
    "RAW_QF 这个文件中，对于每个mu值（可以看作第零个坐标）\n",
    "\n",
    "第一个坐标是样本编号\n",
    "\n",
    "第二个坐标 0 代表稀疏化的网络 1 代表原网络"
   ]
  },
  {
   "cell_type": "code",
   "execution_count": 1,
   "id": "85b61931",
   "metadata": {},
   "outputs": [],
   "source": [
    "#隐藏警告\n",
    "import warnings\n",
    "warnings.filterwarnings('ignore')"
   ]
  },
  {
   "cell_type": "code",
   "execution_count": 2,
   "id": "25c1b4ef",
   "metadata": {},
   "outputs": [],
   "source": [
    "import sys\n",
    "import os\n",
    "\n",
    "# 将子目录添加到 sys.path\n",
    "current_dir = os.getcwd()\n",
    "sys.path.append(os.path.join(os.path.join(current_dir),'EffectiveResistanceSampling'))\n",
    "\n",
    "from EffectiveResistanceSampling.Network import *\n",
    "import numpy as np\n",
    "    \n",
    "import networkx as nx\n",
    "import scipy.sparse\n",
    "\n",
    "def to_networkx(self):\n",
    "    if isinstance(self.graph, scipy.sparse.csr.csr_matrix):\n",
    "        return nx.from_scipy_sparse_matrix(self.graph)\n",
    "    else:\n",
    "        return nx.from_numpy_array(self.graph)"
   ]
  },
  {
   "cell_type": "code",
   "execution_count": 3,
   "id": "ff7026ad",
   "metadata": {},
   "outputs": [],
   "source": [
    "# This is the function for Laplacian Eigenmap using Cupy. The presence of GPU is required.\n",
    "\n",
    "import numpy as np\n",
    "import networkx as nx\n",
    "import cupy as cp\n",
    "\n",
    "def lap_cupy(graph, dim):\n",
    "    \"\"\"\n",
    "    Compute the Laplacian embedding of a graph using CuPy.\n",
    "\n",
    "    Parameters:\n",
    "    graph (networkx.classes.graph.Graph): The input graph.\n",
    "    dim (int): The dimension of the embedding.\n",
    "\n",
    "    Returns:\n",
    "    numpy.ndarray: The Laplacian embedding of the graph.\n",
    "    \"\"\"\n",
    "    # Check inputs\n",
    "    assert isinstance(graph, nx.Graph), \"Input graph must be a NetworkX graph.\"\n",
    "    assert isinstance(dim, int) and dim > 0, \"Input dim must be a positive integer.\"\n",
    "    assert dim < graph.number_of_nodes(), \"Input dim must be less than the number of nodes in the graph.\"\n",
    "\n",
    "    # Convert the adjacency matrix of the graph to a CuPy array\n",
    "    A = cp.asarray(nx.adjacency_matrix(graph, nodelist=graph.nodes(), weight='weight').toarray(), dtype=cp.float64)\n",
    "\n",
    "    # Compute L1 normalization along axis 1 (rows)\n",
    "    row_sums = cp.linalg.norm(A, ord=1, axis=1)\n",
    "    P = A / row_sums.reshape(-1, 1)\n",
    "\n",
    "    # Compute the eigenvalues and eigenvectors of I_n - P\n",
    "    I_n = cp.eye(graph.number_of_nodes())\n",
    "    w, v = cp.linalg.eigh(I_n - P) # v 的每列是一个特征向量\n",
    "\n",
    "    # Sort the eigenvectors by the real part of the eigenvalues\n",
    "    v = v[:, cp.argsort(w.real)]\n",
    "    \n",
    "    v_return = v[:, 1:(dim+1)].get().real\n",
    "\n",
    "    # Return the embedding\n",
    "    return v_return  # Explicitly convert to NumPy array using .get()"
   ]
  },
  {
   "cell_type": "code",
   "execution_count": 4,
   "id": "6481c512",
   "metadata": {
    "scrolled": true
   },
   "outputs": [],
   "source": [
    "### KMeans Clustering using Euclidean and Spherical metrics\n",
    "### Using NMI and ECSim for comparison\n",
    "from sklearn.cluster import KMeans\n",
    "from sklearn.metrics.pairwise import cosine_distances\n",
    "from sklearn.preprocessing import normalize\n",
    "from sklearn.metrics import normalized_mutual_info_score\n",
    "import clusim.sim as sim\n",
    "from clusim.clustering import Clustering\n",
    "\n",
    "\n",
    "def euclid_membership(K, points):\n",
    "    euc_kmeans = KMeans(n_clusters=K, n_init=10)\n",
    "    euc_kmeans.fit(points)\n",
    "\n",
    "    evala_euclid_membership = euc_kmeans.labels_\n",
    "    return evala_euclid_membership\n",
    "\n",
    "def cosine_membership(K, points):\n",
    "    normalized_points = normalize(points)\n",
    "    cos_kmeans = KMeans(n_clusters=K, n_init=10)\n",
    "    cos_kmeans.fit(normalized_points)\n",
    "\n",
    "    evala_cosine_membership = cos_kmeans.labels_\n",
    "    return evala_cosine_membership\n",
    "\n",
    "def calculate_score(evala, intr_list, K):\n",
    "# evala is the embedding vectors\n",
    "# intr_list is the intrinsic community strucuture\n",
    "# K is the number of clusters in Kmeans\n",
    "    return_val = [] # 首先准备好返回值 \n",
    "\n",
    "    intr_clus = Clustering({i: [intr_list[i]] for i in range(len(intr_list))})\n",
    "\n",
    "    evala_euclid_membership = euclid_membership(K, evala)\n",
    "\n",
    "    evala_cosine_membership = cosine_membership(K, evala)\n",
    "\n",
    "    ## compare with intrinsic community structure using NMI\n",
    "    return_val.append(normalized_mutual_info_score(evala_euclid_membership, intr_list, average_method='arithmetic'))\n",
    "    return_val.append(normalized_mutual_info_score(evala_cosine_membership, intr_list, average_method='arithmetic'))\n",
    "    \n",
    "    \n",
    "    evala_euclid_clustering = Clustering(elm2clu_dict={i: [evala_euclid_membership[i]] for i in range(len(evala_euclid_membership))})\n",
    "    evala_cosine_clustering = Clustering(elm2clu_dict={i: [evala_cosine_membership[i]] for i in range(len(evala_cosine_membership))})\n",
    "    \n",
    "    ## compare with intrinsic community structure using ECSim\n",
    "    evala_euclid_similarity = sim.element_sim(intr_clus, evala_euclid_clustering, alpha=0.9)\n",
    "    evala_cosine_similarity = sim.element_sim(intr_clus, evala_cosine_clustering, alpha=0.9)\n",
    "    return_val.append(evala_euclid_similarity)\n",
    "    return_val.append(evala_cosine_similarity)\n",
    "    \n",
    "    return return_val"
   ]
  },
  {
   "cell_type": "code",
   "execution_count": 5,
   "id": "e6156974",
   "metadata": {},
   "outputs": [],
   "source": [
    "import numpy as np\n",
    "\n",
    "step_total  = 2\n",
    "step_size = 0.05\n",
    "MU = np.around(np.arange(step_size, step_size * step_total + 0.01, step_size), decimals=2)\n",
    "\n",
    "SAMPLE = 3\n",
    "\n",
    "stat = np.zeros((step_total, 2, 4))\n",
    "qf_ratio = np.zeros((step_total))\n",
    "\n",
    "K = 15\n",
    "\n",
    "RAW_SCORE={}\n",
    "RAW_QF={}"
   ]
  },
  {
   "cell_type": "code",
   "execution_count": 6,
   "id": "63803a30",
   "metadata": {},
   "outputs": [],
   "source": [
    "import pickle\n",
    "\n",
    "def load_ppm_graph_mu(mu, output_dir='data'):\n",
    "    file_path = os.path.join(output_dir, f'ppm_graph_mu{mu}.pickle')\n",
    "    with open(file_path, 'rb') as file:\n",
    "        combined_data = pickle.load(file)\n",
    "    \n",
    "    graphs = combined_data['graphs']\n",
    "    memberships = combined_data['memberships']\n",
    "    \n",
    "    return graphs, memberships"
   ]
  },
  {
   "cell_type": "code",
   "execution_count": 7,
   "id": "32ba98e3",
   "metadata": {},
   "outputs": [],
   "source": [
    "import numpy as np\n",
    "import networkx as nx\n",
    "from concurrent.futures import ProcessPoolExecutor\n",
    "\n",
    "\n",
    "def process_mu(mu):\n",
    "    raw_score_mu = np.zeros((SAMPLE, 2, 4))\n",
    "    raw_qf_mu = np.zeros((SAMPLE, 2))\n",
    "    graphs, memberships = load_ppm_graph_mu(mu)\n",
    "    for i in range(SAMPLE):\n",
    "        G = graphs[i]\n",
    "        \n",
    "        intrinsic_membership = memberships[i]\n",
    "\n",
    "        edge_list = list(G.edges())\n",
    "        edge_list = np.array(edge_list)\n",
    "\n",
    "        edge_weights = nx.get_edge_attributes(G, 'weight')\n",
    "        edge_weights = np.array(edge_weights)\n",
    "\n",
    "        edge_weights = [edge_weights[edge] if edge in edge_weights else 1 for edge in edge_list]\n",
    "\n",
    "        Gn = Network(edge_list, edge_weights)\n",
    "\n",
    "        epsilon = 0.1\n",
    "        method = 'spl'\n",
    "        Effective_R = Gn.effR(epsilon, method)\n",
    "\n",
    "        q = 10000\n",
    "        seed = 2024\n",
    "        \n",
    "        while(True):\n",
    "            Gn_Sparse = Gn.spl(q, Effective_R, seed=seed)\n",
    "\n",
    "            G_sparse = to_networkx(Gn_Sparse)\n",
    "            if nx.is_connected(G_sparse):\n",
    "                break           \n",
    "        A = np.asarray(nx.adjacency_matrix(G, nodelist=G.nodes(), weight='weight').toarray(), dtype=np.float64)\n",
    "        embedding_sparse = lap_cupy(G_sparse, K)\n",
    "        embedding_original = lap_cupy(G, K)\n",
    "        \n",
    "        #score_sparse_orth = calculate_score(\n",
    "        #    compute_orthogonal_components(G, embedding_sparse), intrinsic_membership, len(np.unique(intrinsic_membership)))\n",
    "        #raw_score_mu[i, 0] = score_sparse_orth\n",
    "        score_sparse = calculate_score(embedding_sparse, intrinsic_membership, len(np.unique(intrinsic_membership)))\n",
    "        raw_score_mu[i, 0] = score_sparse\n",
    "        \n",
    "        quadratic_form_sparse = 0\n",
    "        for k in range(embedding_sparse.shape[1]):\n",
    "            vk = embedding_sparse[:, k]\n",
    "            for s in range(A.shape[0]):\n",
    "                for t in range(A.shape[1]):\n",
    "                    quadr = A[s, t] * (vk[s] - vk[t]) ** 2\n",
    "                    quadratic_form_sparse += quadr\n",
    "        raw_qf_mu[i,0] = quadratic_form_sparse\n",
    "        #print(quadratic_form_sparse)\n",
    "        \n",
    "        \n",
    "        score_original = calculate_score(embedding_original, intrinsic_membership, len(np.unique(intrinsic_membership)))\n",
    "        raw_score_mu[i, 1] = score_original\n",
    "\n",
    "        quadratic_form_original = 0\n",
    "        for k in range(embedding_original.shape[1]):\n",
    "            vk = embedding_original[:, k]\n",
    "            for s in range(A.shape[0]):\n",
    "                for t in range(A.shape[1]):\n",
    "                    #print(A[s, t])\n",
    "                    quadr = A[s, t] * (vk[s] - vk[t]) ** 2\n",
    "                    quadratic_form_original += quadr\n",
    "        #print(quadratic_form_original)\n",
    "            \n",
    "        raw_qf_mu[i,1] = quadratic_form_original\n",
    "        \n",
    "        print(i)\n",
    "\n",
    "    return mu, raw_score_mu, np.mean(raw_score_mu, axis=0), raw_qf_mu"
   ]
  },
  {
   "cell_type": "code",
   "execution_count": 8,
   "id": "4261690e",
   "metadata": {
    "scrolled": true
   },
   "outputs": [
    {
     "name": "stdout",
     "output_type": "stream",
     "text": [
      "0\n",
      "0\n",
      "1\n",
      "1\n",
      "2\n",
      "2\n"
     ]
    }
   ],
   "source": [
    "with ProcessPoolExecutor() as executor:\n",
    "    results = list(executor.map(process_mu, MU))"
   ]
  },
  {
   "cell_type": "code",
   "execution_count": 9,
   "id": "1f4be77c",
   "metadata": {},
   "outputs": [
    {
     "name": "stdout",
     "output_type": "stream",
     "text": [
      "并行计算完成\n"
     ]
    }
   ],
   "source": [
    "for mu, raw_score_mu, mean_score, raw_qf_mu in results:\n",
    "    RAW_SCORE[mu] = raw_score_mu\n",
    "    RAW_QF[mu] = raw_qf_mu\n",
    "    stat[int(mu / step_size + 0.001) - 1] = mean_score\n",
    "    \n",
    "    ratios = raw_qf_mu[:, 0] / raw_qf_mu[:, 1]\n",
    "    qf_ratio[[int(mu / step_size + 0.001) - 1]] = np.mean(ratios)\n",
    "\n",
    "print(\"并行计算完成\")"
   ]
  },
  {
   "cell_type": "code",
   "execution_count": 10,
   "id": "1f7d3c14",
   "metadata": {},
   "outputs": [
    {
     "name": "stdout",
     "output_type": "stream",
     "text": [
      "RAW_SCORE 已成功存储到 ppm_lap_raw_score.pkl 文件中\n",
      "RAW_QF 已成功存储到 ppm_lap_raw_qf.pkl 文件中\n"
     ]
    }
   ],
   "source": [
    "import pickle\n",
    "\n",
    "# 将 RAW_SCORE 存储到文件\n",
    "with open('data/ppm_lap_raw_score.pkl', 'wb') as file:\n",
    "    pickle.dump(RAW_SCORE, file)\n",
    "\n",
    "print(\"RAW_SCORE 已成功存储到 ppm_lap_raw_score.pkl 文件中\")\n",
    "\n",
    "# 将 RAW_QF 存储到文件\n",
    "with open('data/ppm_lap_raw_qf.pkl', 'wb') as file:\n",
    "    pickle.dump(RAW_QF, file)\n",
    "\n",
    "print(\"RAW_QF 已成功存储到 ppm_lap_raw_qf.pkl 文件中\")"
   ]
  },
  {
   "cell_type": "code",
   "execution_count": 11,
   "id": "68068b3c",
   "metadata": {},
   "outputs": [
    {
     "data": {
      "image/png": "[encoded data removed]",
      "text/plain": [
       "<Figure size 640x480 with 1 Axes>"
      ]
     },
     "metadata": {},
     "output_type": "display_data"
    }
   ],
   "source": [
    "import numpy as np\n",
    "import matplotlib.pyplot as plt\n",
    "\n",
    "method = 2\n",
    "\n",
    "\n",
    "# 绘制每列的折线图\n",
    "plt.plot(stat[:, 1, method], label='Original Network', color='r', marker='o')  # 红色曲线\n",
    "plt.plot(stat[:, 0, method], label='Sparse', color='b', marker='x')  # 蓝色曲线\n",
    "\n",
    "# 添加网格\n",
    "plt.grid(True)\n",
    "\n",
    "# 添加图例并设置位置\n",
    "plt.legend(loc='best')\n",
    "\n",
    "# 添加标签和标题\n",
    "x_labels = np.arange(0.05, step_total*step_size, 0.05)\n",
    "plt.xticks(ticks=np.arange(len(x_labels)), labels=[f'{x:.2f}' for x in x_labels])\n",
    "plt.xlabel('μ')\n",
    "plt.ylabel('Similarity Score')\n",
    "plt.title('Similarity Score vs mixing parameter')\n",
    "plt.ylim(0, 1)\n",
    "\n",
    "# 显示图形\n",
    "plt.show()"
   ]
  },
  {
   "cell_type": "code",
   "execution_count": 12,
   "id": "7367e8cf",
   "metadata": {},
   "outputs": [
    {
     "data": {
      "image/png": "[encoded data removed]",
      "text/plain": [
       "<Figure size 1200x1000 with 4 Axes>"
      ]
     },
     "metadata": {},
     "output_type": "display_data"
    }
   ],
   "source": [
    "import numpy as np\n",
    "import matplotlib.pyplot as plt\n",
    "\n",
    "\n",
    "methods = [0, 1, 2, 3]\n",
    "titles = ['Euclidean NMI', 'Spherical NMI', 'Euclidean ECS', 'Spherical ECS']\n",
    "\n",
    "# 创建 2x2 网格布局\n",
    "fig, axs = plt.subplots(2, 2, figsize=(12, 10))\n",
    "\n",
    "# 绘制每个 method 的折线图\n",
    "for i, method in enumerate(methods):\n",
    "    ax = axs[i // 2, i % 2]\n",
    "    ax.plot(stat[:, 1, method], label='Original Network', color='r', marker='o')  # 红色曲线\n",
    "    ax.plot(stat[:, 0, method], label='Sparse', color='b', marker='x')  # 蓝色曲线\n",
    "    \n",
    "    # 添加网格\n",
    "    ax.grid(True)\n",
    "    \n",
    "    # 添加图例并设置位置\n",
    "    ax.legend(loc='best')\n",
    "    \n",
    "    # 添加标签和标题\n",
    "    x_labels = np.arange(0.05, step_total*step_size, 0.05)\n",
    "    ax.set_xticks(np.arange(len(x_labels)))\n",
    "    ax.set_xticklabels([f'{x:.2f}' for x in x_labels])\n",
    "    ax.set_xlabel('μ')\n",
    "    ax.set_ylabel('Similarity Score')\n",
    "    ax.set_title(titles[i])\n",
    "    # 设置 y 轴范围\n",
    "    ax.set_ylim(0, 1)  # 这里设置 y 轴的范围为 0 到 1，可以根据实际数据调整\n",
    "    \n",
    "# 调整子图之间的间距\n",
    "plt.tight_layout()\n",
    "\n",
    "# 显示图形\n",
    "plt.show()"
   ]
  }
 ],
 "metadata": {
  "kernelspec": {
   "display_name": "Python 3 (ipykernel)",
   "language": "python",
   "name": "python3"
  },
  "language_info": {
   "codemirror_mode": {
    "name": "ipython",
    "version": 3
   },
   "file_extension": ".py",
   "mimetype": "text/x-python",
   "name": "python",
   "nbconvert_exporter": "python",
   "pygments_lexer": "ipython3",
   "version": "3.10.10"
  }
 },
 "nbformat": 4,
 "nbformat_minor": 5
}
