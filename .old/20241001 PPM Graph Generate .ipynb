{
 "cells": [
  {
   "cell_type": "code",
   "execution_count": 1,
   "id": "ac25ec48",
   "metadata": {},
   "outputs": [],
   "source": [
    "# Set the range for mixing parameters\n",
    "import numpy as np\n",
    "\n",
    "step_total  = 18\n",
    "step_size = 0.05\n",
    "MU = np.around(np.arange(step_size, step_size * step_total + 0.01, step_size), decimals=2)\n",
    "\n",
    "\n",
    "# Specify Parameters\n",
    "number_of_comm = 15           # Number of communities\n",
    "comm_size = 68  # Size of communities\n",
    "n = number_of_comm*comm_size          # Total number of nodes\n",
    "deg_avg = 25  # Average degree of the whole network\n",
    "\n",
    "sample_count = 20"
   ]
  },
  {
   "cell_type": "code",
   "execution_count": 2,
   "id": "8f0af09c",
   "metadata": {},
   "outputs": [],
   "source": [
    "import numpy as np\n",
    "import networkx as nx\n",
    "\n",
    "def generate_ppm(q, comm_size, deg_avg, mu):\n",
    "    n = q*comm_size # total number of nodes\n",
    "    # Calculate p_out and p_in\n",
    "    p_out = mu*deg_avg/n\n",
    "    p_in = (deg_avg - (n - n / q) * p_out) / (n / q - 1)\n",
    "    #print(f'p_out={p_out}, p_in={p_in}')\n",
    "    if p_out < 0 or p_out > 1 or p_in < 0 or p_in > 1:\n",
    "        raise ValueError(\"Calculated probability is out of the valid range (0, 1).\")\n",
    "    sizes = [n // q] * q  \n",
    "\n",
    "    # Probability matrix (within and between blocks)\n",
    "    p_matrix = [[p_in if i == j else p_out for j in range(q)] for i in range(q)]\n",
    "\n",
    "    # Generate the PPM graph using the SBM generator\n",
    "    G = nx.stochastic_block_model(sizes, p_matrix, seed=42)\n",
    "    return G"
   ]
  },
  {
   "cell_type": "code",
   "execution_count": 3,
   "id": "dab8588a",
   "metadata": {},
   "outputs": [],
   "source": [
    "import os\n",
    "import pickle\n",
    "import networkx as nx\n",
    "#from networkx.generators.community import LFR_benchmark_graph  # Replace with your actual import\n",
    "\n",
    "def gene_ppm_graph_mu(mu, sample_count=sample_count, output_dir='data'): ##########################################\n",
    "    # Create the output directory if it doesn't exist\n",
    "    os.makedirs(output_dir, exist_ok=True)\n",
    "\n",
    "    graphs = []\n",
    "    memberships = []\n",
    "\n",
    "    for i in range(sample_count):\n",
    "        G = generate_ppm(number_of_comm, comm_size, deg_avg, mu)\n",
    "\n",
    "        G = nx.Graph(G)\n",
    "        selfloop_edges = list(nx.selfloop_edges(G))\n",
    "        G.remove_edges_from(selfloop_edges)\n",
    "\n",
    "        intrinsic_membership = list(nx.get_node_attributes(G, 'block').values())\n",
    "\n",
    "        # Append the graph and membership to the lists\n",
    "        graphs.append(G)\n",
    "        memberships.append(intrinsic_membership)\n",
    "\n",
    "    # Save all graphs and memberships into a single file\n",
    "    combined_data = {\n",
    "        'graphs': graphs,\n",
    "        'memberships': memberships\n",
    "    }\n",
    "    \n",
    "    file_path = os.path.join(output_dir, f'ppm_graph_mu{mu}.pickle')\n",
    "    with open(file_path, 'wb') as file:\n",
    "        pickle.dump(combined_data, file)\n",
    "\n",
    "    print(f'Saved all graphs and memberships for mu={mu} to {file_path}')"
   ]
  },
  {
   "cell_type": "code",
   "execution_count": 4,
   "id": "fbba4d83",
   "metadata": {},
   "outputs": [
    {
     "name": "stdout",
     "output_type": "stream",
     "text": [
      "Saved all graphs and memberships for mu=0.05 to data/ppm_graph_mu0.05.pickle\n",
      "Saved all graphs and memberships for mu=0.1 to data/ppm_graph_mu0.1.pickle\n",
      "Saved all graphs and memberships for mu=0.15 to data/ppm_graph_mu0.15.pickle\n",
      "Saved all graphs and memberships for mu=0.2 to data/ppm_graph_mu0.2.pickle\n",
      "Saved all graphs and memberships for mu=0.4 to data/ppm_graph_mu0.4.pickleSaved all graphs and memberships for mu=0.35 to data/ppm_graph_mu0.35.pickleSaved all graphs and memberships for mu=0.5 to data/ppm_graph_mu0.5.pickleSaved all graphs and memberships for mu=0.3 to data/ppm_graph_mu0.3.pickle\n",
      "\n",
      "\n",
      "\n",
      "Saved all graphs and memberships for mu=0.65 to data/ppm_graph_mu0.65.pickle\n",
      "Saved all graphs and memberships for mu=0.25 to data/ppm_graph_mu0.25.pickle\n",
      "Saved all graphs and memberships for mu=0.7 to data/ppm_graph_mu0.7.pickle\n",
      "Saved all graphs and memberships for mu=0.75 to data/ppm_graph_mu0.75.pickle\n",
      "Saved all graphs and memberships for mu=0.45 to data/ppm_graph_mu0.45.pickleSaved all graphs and memberships for mu=0.8 to data/ppm_graph_mu0.8.pickleSaved all graphs and memberships for mu=0.9 to data/ppm_graph_mu0.9.pickleSaved all graphs and memberships for mu=0.6 to data/ppm_graph_mu0.6.pickleSaved all graphs and memberships for mu=0.85 to data/ppm_graph_mu0.85.pickleSaved all graphs and memberships for mu=0.55 to data/ppm_graph_mu0.55.pickle\n",
      "\n",
      "\n",
      "\n",
      "\n",
      "\n"
     ]
    }
   ],
   "source": [
    "from concurrent.futures import ProcessPoolExecutor\n",
    "\n",
    "with ProcessPoolExecutor() as executor:\n",
    "    results = list(executor.map(gene_ppm_graph_mu, MU))"
   ]
  },
  {
   "cell_type": "code",
   "execution_count": 5,
   "id": "ebf18d10",
   "metadata": {},
   "outputs": [],
   "source": [
    "def load_ppm_graph_mu(mu, output_dir='data'):\n",
    "    file_path = os.path.join(output_dir, f'ppm_graph_mu{mu}.pickle')\n",
    "    with open(file_path, 'rb') as file:\n",
    "        combined_data = pickle.load(file)\n",
    "    \n",
    "    graphs = combined_data['graphs']\n",
    "    memberships = combined_data['memberships']\n",
    "    \n",
    "    return graphs, memberships\n",
    "\n",
    "# Example usage\n",
    "# graphs, memberships = load_data(mu_value)\n",
    "graphs, memberships = load_ppm_graph_mu(mu=0.2)"
   ]
  }
 ],
 "metadata": {
  "kernelspec": {
   "display_name": "Python 3 (ipykernel)",
   "language": "python",
   "name": "python3"
  },
  "language_info": {
   "codemirror_mode": {
    "name": "ipython",
    "version": 3
   },
   "file_extension": ".py",
   "mimetype": "text/x-python",
   "name": "python",
   "nbconvert_exporter": "python",
   "pygments_lexer": "ipython3",
   "version": "3.12.5"
  }
 },
 "nbformat": 4,
 "nbformat_minor": 5
}
