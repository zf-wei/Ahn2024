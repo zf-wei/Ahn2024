{
 "cells": [
  {
   "cell_type": "code",
   "execution_count": 1,
   "id": "e753e2e6",
   "metadata": {},
   "outputs": [],
   "source": [
    "# Set the range for mixing parameters\n",
    "import numpy as np\n",
    "\n",
    "step_total  = 10\n",
    "step_size = 0.05\n",
    "MU = np.around(np.arange(step_size, step_size * step_total + 0.01, step_size), decimals=2)\n",
    "\n",
    "\n",
    "# Specify Parameters\n",
    "n = 1000\n",
    "tau1 = 2  # Power-law exponent for the degree distribution\n",
    "tau2 = 1.1  # Power-law exponent for the community size distribution\n",
    "#mu = 0.1  # Mixing parameter\n",
    "avg_deg = 25  # Average Degree\n",
    "max_deg = int(0.1 * n)  # Max Degree\n",
    "min_commu = 60  # Min Community Size\n",
    "max_commu = int(0.1 * n)  # Max Community Size\n",
    "\n",
    "sample_count = 20"
   ]
  },
  {
   "cell_type": "code",
   "execution_count": 2,
   "id": "290c441c",
   "metadata": {},
   "outputs": [],
   "source": [
    "import os\n",
    "import pickle\n",
    "import networkx as nx\n",
    "from networkx.generators.community import LFR_benchmark_graph  # Replace with your actual import\n",
    "\n",
    "def gene_lfr_graph_mu(mu, sample_count=sample_count, output_dir='data'):\n",
    "    # Create the output directory if it doesn't exist\n",
    "    os.makedirs(output_dir, exist_ok=True)\n",
    "\n",
    "    graphs = []\n",
    "    memberships = []\n",
    "\n",
    "    for i in range(sample_count):\n",
    "        G = LFR_benchmark_graph(\n",
    "            n, tau1, tau2, mu, average_degree=avg_deg, max_degree=max_deg,\n",
    "            min_community=min_commu, max_community=max_commu,\n",
    "            seed=2024\n",
    "        )\n",
    "\n",
    "        G = nx.Graph(G)\n",
    "        selfloop_edges = list(nx.selfloop_edges(G))\n",
    "        G.remove_edges_from(selfloop_edges)\n",
    "\n",
    "        intrinsic_communities = {frozenset(G.nodes[v][\"community\"]) for v in G}\n",
    "        intrinsic_membership = {}\n",
    "        for node in range(G.number_of_nodes()):\n",
    "            for index, inner_set in enumerate(intrinsic_communities):\n",
    "                if node in inner_set:\n",
    "                    intrinsic_membership[node] = index\n",
    "                    break\n",
    "        intrinsic_membership = list(intrinsic_membership.values())\n",
    "\n",
    "        # Append the graph and membership to the lists\n",
    "        graphs.append(G)\n",
    "        memberships.append(intrinsic_membership)\n",
    "\n",
    "    # Save all graphs and memberships into a single file\n",
    "    combined_data = {\n",
    "        'graphs': graphs,\n",
    "        'memberships': memberships\n",
    "    }\n",
    "    \n",
    "    file_path = os.path.join(output_dir, f'lfr_graph_mu{mu}.pickle')\n",
    "    with open(file_path, 'wb') as file:\n",
    "        pickle.dump(combined_data, file)\n",
    "\n",
    "    print(f'Saved all graphs and memberships for mu={mu} to {file_path}')"
   ]
  },
  {
   "cell_type": "code",
   "execution_count": 3,
   "id": "9f51ace4",
   "metadata": {},
   "outputs": [
    {
     "name": "stdout",
     "output_type": "stream",
     "text": [
      "Saved all graphs and memberships for mu=0.5 to data/lfr_graph_mu0.5.pickle\n",
      "Saved all graphs and memberships for mu=0.45 to data/lfr_graph_mu0.45.pickle\n",
      "Saved all graphs and memberships for mu=0.4 to data/lfr_graph_mu0.4.pickle\n",
      "Saved all graphs and memberships for mu=0.35 to data/lfr_graph_mu0.35.pickle\n",
      "Saved all graphs and memberships for mu=0.3 to data/lfr_graph_mu0.3.pickle\n",
      "Saved all graphs and memberships for mu=0.25 to data/lfr_graph_mu0.25.pickle\n",
      "Saved all graphs and memberships for mu=0.2 to data/lfr_graph_mu0.2.pickle\n",
      "Saved all graphs and memberships for mu=0.15 to data/lfr_graph_mu0.15.pickle\n",
      "Saved all graphs and memberships for mu=0.1 to data/lfr_graph_mu0.1.pickle\n",
      "Saved all graphs and memberships for mu=0.05 to data/lfr_graph_mu0.05.pickle\n"
     ]
    }
   ],
   "source": [
    "from concurrent.futures import ProcessPoolExecutor\n",
    "\n",
    "with ProcessPoolExecutor() as executor:\n",
    "    results = list(executor.map(gene_lfr_graph_mu, MU))"
   ]
  },
  {
   "cell_type": "code",
   "execution_count": 4,
   "id": "0ec1c733",
   "metadata": {},
   "outputs": [],
   "source": [
    "def load_lfr_graph_mu(mu, output_dir='data'):\n",
    "    file_path = os.path.join(output_dir, f'lfr_graph_mu{mu}.pickle')\n",
    "    with open(file_path, 'rb') as file:\n",
    "        combined_data = pickle.load(file)\n",
    "    \n",
    "    graphs = combined_data['graphs']\n",
    "    memberships = combined_data['memberships']\n",
    "    \n",
    "    return graphs, memberships\n",
    "\n",
    "# Example usage\n",
    "# graphs, memberships = load_data(mu_value)\n",
    "graphs, memberships = load_lfr_graph_mu(mu=0.2)"
   ]
  }
 ],
 "metadata": {
  "kernelspec": {
   "display_name": "Python 3 (ipykernel)",
   "language": "python",
   "name": "python3"
  },
  "language_info": {
   "codemirror_mode": {
    "name": "ipython",
    "version": 3
   },
   "file_extension": ".py",
   "mimetype": "text/x-python",
   "name": "python",
   "nbconvert_exporter": "python",
   "pygments_lexer": "ipython3",
   "version": "3.12.5"
  }
 },
 "nbformat": 4,
 "nbformat_minor": 5
}
