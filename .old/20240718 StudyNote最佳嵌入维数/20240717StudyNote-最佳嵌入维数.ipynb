{
 "cells": [
  {
   "cell_type": "markdown",
   "id": "e10f685a",
   "metadata": {},
   "source": [
    "# 不要再运行这个笔记本了\n",
    "# 这个笔记本的意义就是说那谁说的确定维数办法不可行"
   ]
  },
  {
   "cell_type": "code",
   "execution_count": 1,
   "id": "69ccecf4",
   "metadata": {},
   "outputs": [],
   "source": [
    "args = {\n",
    "    'input': './football',\n",
    "    'output': './emb',\n",
    "    'start_dim': 1,\n",
    "    'end_dim': 200,\n",
    "    'step': 1,\n",
    "    'length': 10,\n",
    "    'num_walks': 20,\n",
    "    'window_size': 5,\n",
    "    'iter': 10,\n",
    "    'workers': 8,\n",
    "    'p': 1.0,\n",
    "    'q': 1.0,\n",
    "    'weighted': False,\n",
    "    'directed': False\n",
    "}"
   ]
  },
  {
   "cell_type": "code",
   "execution_count": 2,
   "id": "b4297a42",
   "metadata": {},
   "outputs": [],
   "source": [
    "# This is the function for Laplacian Eigenmap using Cupy. The presence of GPU is required.\n",
    "\n",
    "import numpy as np\n",
    "import networkx as nx\n",
    "import cupy as cp\n",
    "\n",
    "def lap_cupy(graph, dim):\n",
    "    \"\"\"\n",
    "    Compute the Laplacian embedding of a graph using CuPy.\n",
    "\n",
    "    Parameters:\n",
    "    graph (networkx.classes.graph.Graph): The input graph.\n",
    "    dim (int): The dimension of the embedding.\n",
    "\n",
    "    Returns:\n",
    "    numpy.ndarray: The Laplacian embedding of the graph.\n",
    "    \"\"\"\n",
    "    # Check inputs\n",
    "    assert isinstance(graph, nx.Graph), \"Input graph must be a NetworkX graph.\"\n",
    "    assert isinstance(dim, int) and dim > 0, \"Input dim must be a positive integer.\"\n",
    "    assert dim < graph.number_of_nodes(), \"Input dim must be less than the number of nodes in the graph.\"\n",
    "\n",
    "    # Convert the adjacency matrix of the graph to a CuPy array\n",
    "    A = cp.asarray(nx.adjacency_matrix(graph, nodelist=graph.nodes(), weight='weight').toarray(), dtype=cp.float64)\n",
    "\n",
    "    # Compute L1 normalization along axis 1 (rows)\n",
    "    row_sums = cp.linalg.norm(A, ord=1, axis=1)\n",
    "    A /= row_sums.reshape(-1, 1)\n",
    "\n",
    "    # Compute the eigenvalues and eigenvectors of I_n - A\n",
    "    I_n = cp.eye(graph.number_of_nodes())\n",
    "    w, v = cp.linalg.eigh(I_n - A)\n",
    "\n",
    "    # Sort the eigenvectors by the real part of the eigenvalues\n",
    "    v = v[:, cp.argsort(w.real)]\n",
    "\n",
    "    # Return the embedding\n",
    "    return v[:, 1:(dim+1)].get().real  # Explicitly convert to NumPy array using .get()"
   ]
  },
  {
   "cell_type": "code",
   "execution_count": 3,
   "id": "36ae6dc8",
   "metadata": {},
   "outputs": [],
   "source": [
    "import numpy as np\n",
    "import networkx as nx\n",
    "import node2vec\n",
    "from gensim.models import Word2Vec\n",
    "from scipy.spatial.distance import cdist\n",
    "from scipy import optimize\n",
    "import math\n",
    "import matplotlib\n",
    "matplotlib.use('Agg')\n",
    "import matplotlib.pyplot as plt\n",
    "\n",
    "def read_graph(args):\n",
    "    '''\n",
    "    Reads the input network in networkx.\n",
    "    '''\n",
    "    if args[\"weighted\"]:\n",
    "        G = nx.read_edgelist(args[\"input\"], nodetype=int, data=(('weight',float),), create_using=nx.DiGraph())\n",
    "    else:\n",
    "        G = nx.read_edgelist(args[\"input\"], nodetype=int, create_using=nx.DiGraph())\n",
    "        for edge in G.edges():\n",
    "            G[edge[0]][edge[1]]['weight'] = 1\n",
    "    #G = nx.read_edgelist(file_name, nodetype=int)\n",
    "    if not args[\"directed\"]:\n",
    "        G = G.to_undirected()\n",
    "    return G\n",
    "    \n",
    "def fitting_func(dims,s,a,L):  \n",
    "      return s/np.power(dims,a) + L"
   ]
  },
  {
   "cell_type": "code",
   "execution_count": 4,
   "id": "c8898953",
   "metadata": {},
   "outputs": [],
   "source": [
    "def identify_optimal_dim(embedding_dims, loss):\n",
    "    '''\n",
    "    Identify the optimal dimension range and compute the curve fitting parameter for graph.\n",
    "    '''  \n",
    "    (s,a,l),cov = optimize.curve_fit(fitting_func, embedding_dims,loss)\n",
    "    fit_values = (fitting_func(np.array(embedding_dims),s,a,l))\n",
    "    MSE = ((np.array(loss)-np.array(fit_values))**2).mean()\n",
    "    opt = np.power((s/0.05),1/a)\n",
    "    print('the optimal dimension at 0.05 accuracy level is {}'.format(int(math.ceil(opt))))\n",
    "    print('the MSE of curve fitting is {}'.format(MSE))\n",
    "\n",
    "def cal_cosine_matrices(G, args):\n",
    "    '''\n",
    "    Compute the cosine distance between every node pair over different embedding dimensions.\n",
    "    '''\n",
    "    norm_loss = []\n",
    "    node_num = len(G.nodes())\n",
    "    if node_num < args['end_dim']:\n",
    "        args['end_dim'] = node_num-1\n",
    "    embedding_dims = list(range(args[\"start_dim\"],args[\"end_dim\"],args[\"step\"]))\n",
    "    if node_num < 500:\n",
    "        embedding_dims.insert(0,node_num-1)\n",
    "        print('graph size smaller than the default end dimension, thus has been automatically set to {}'.format(node_num))\n",
    "    else:\n",
    "        embedding_dims.insert(0,500)  \n",
    "    #cosine_matrices = np.zeros((len(embedding_dims),node_num,node_num)) \n",
    "    for _index, dim in enumerate(embedding_dims):\n",
    "        # print (dim)\n",
    "        # model = Word2Vec(walks, vector_size=dim,window=args[\"window_size\"], min_count=0, sg=1, workers=args[\"workers\"], epochs=args[\"iter\"])    \n",
    "        #emb_matrix = np.zeros((node_num,dim))      \n",
    "        emb_matrix= lap_cupy(G, dim)#model[str(node)] \n",
    "        emb_matrix = emb_matrix - np.mean(emb_matrix,axis=0) \n",
    "        cosine_matrix = 1 - cdist(emb_matrix,emb_matrix,'cosine')\n",
    "        if _index == 0:\n",
    "            benchmark_array = np.array(upper_tri_masking(cosine_matrix))\n",
    "            #np.savez_compressed('./pic/conect_data/npz/{}'.format(str.split(args.input,'/')[6]),benchmark_array)      \n",
    "        else:\n",
    "            dim_array = np.array(upper_tri_masking(cosine_matrix)) \n",
    "            loss = np.linalg.norm((dim_array-benchmark_array),ord=1)\n",
    "            norm_loss.append(loss/len(dim_array))\n",
    "    return embedding_dims[1:],norm_loss\n",
    "    \n",
    "def upper_tri_masking(A):\n",
    "    '''\n",
    "    Masking the upper triangular matrix. \n",
    "    '''\n",
    "    m = A.shape[0]\n",
    "    r = np.arange(m)\n",
    "    mask = r[:,None] < r\n",
    "    return A[mask]\n",
    "  \n",
    "def cal_embedding_distance(args):\n",
    "    '''\n",
    "    The overall random walk, graph embedding and cosine distance calculation process.\n",
    "    '''\n",
    "    nx_G = read_graph(args)\n",
    "    \n",
    "    dims, loss = cal_cosine_matrices(nx_G, args)\n",
    "    print(\"this is a flag\")\n",
    "    print(dims,loss)\n",
    "    plt.plot(dims,loss)\n",
    "    plt.savefig('./a.png')\n",
    "    identify_optimal_dim(dims, loss)\n",
    "    #return cosine_matrices"
   ]
  },
  {
   "cell_type": "code",
   "execution_count": 5,
   "id": "d8939bac",
   "metadata": {
    "scrolled": false
   },
   "outputs": [
    {
     "name": "stdout",
     "output_type": "stream",
     "text": [
      "graph size smaller than the default end dimension, thus has been automatically set to 115\n"
     ]
    },
    {
     "name": "stderr",
     "output_type": "stream",
     "text": [
      "/tmp/ipykernel_111573/3981420276.py:24: FutureWarning: adjacency_matrix will return a scipy.sparse array instead of a matrix in Networkx 3.0.\n",
      "  A = cp.asarray(nx.adjacency_matrix(graph, nodelist=graph.nodes(), weight='weight').toarray(), dtype=cp.float64)\n"
     ]
    },
    {
     "name": "stdout",
     "output_type": "stream",
     "text": [
      "this is a flag\n",
      "[1, 2, 3, 4, 5, 6, 7, 8, 9, 10, 11, 12, 13, 14, 15, 16, 17, 18, 19, 20, 21, 22, 23, 24, 25, 26, 27, 28, 29, 30, 31, 32, 33, 34, 35, 36, 37, 38, 39, 40, 41, 42, 43, 44, 45, 46, 47, 48, 49, 50, 51, 52, 53, 54, 55, 56, 57, 58, 59, 60, 61, 62, 63, 64, 65, 66, 67, 68, 69, 70, 71, 72, 73, 74, 75, 76, 77, 78, 79, 80, 81, 82, 83, 84, 85, 86, 87, 88, 89, 90, 91, 92, 93, 94, 95, 96, 97, 98, 99, 100, 101, 102, 103, 104, 105, 106, 107, 108, 109, 110, 111, 112, 113] [0.9999794874681333, 0.6414235054151521, 0.4893476953973873, 0.40796127845208713, 0.35632502789504006, 0.31286178003880377, 0.2727480166982685, 0.2434671627843103, 0.21524337908175747, 0.19761682191397204, 0.18164523369626917, 0.17116079982430088, 0.1661546206734942, 0.1608383715274257, 0.15329464858962322, 0.14911335812230214, 0.14387385330526264, 0.1412756520001435, 0.13858196846789395, 0.13578592245602863, 0.13245010050786635, 0.12945864536003035, 0.12680647352205948, 0.1242875332758748, 0.12220864745331075, 0.1197299356131337, 0.1166680711596355, 0.1139743986100194, 0.11137280088576026, 0.10840726503859731, 0.10577647580410875, 0.10393291686587901, 0.10201272544489237, 0.09952411174341641, 0.09736281363590309, 0.09507525225302726, 0.09306707240897949, 0.09089315860210752, 0.08874480036812521, 0.08680037075427247, 0.08507617993072969, 0.08324366752892357, 0.08156048118343562, 0.0797513004411462, 0.07800850201128577, 0.07652018934754727, 0.0748783814021783, 0.07329770415308896, 0.07170775011868545, 0.07050204351356093, 0.0691130587684612, 0.06793645165967424, 0.06670947497704648, 0.06538037002023978, 0.06410430029715783, 0.06285802265034605, 0.06151779821838989, 0.0600938507939674, 0.05879884515130742, 0.057925812552128954, 0.05689836213809642, 0.055691828715708935, 0.05466186825115487, 0.05358320505552733, 0.052804846431612915, 0.051713587131956215, 0.05081196275212742, 0.0500572613349401, 0.049131206320176174, 0.04820663303131111, 0.04733019826392032, 0.04651562042670276, 0.045687609824025546, 0.04501003021167878, 0.04437075274901865, 0.04349139259036172, 0.04271599619362438, 0.04209431927766585, 0.04138369581581189, 0.0407527291027937, 0.04002954040151826, 0.0393121473752812, 0.03873552998294846, 0.038062583619773, 0.03732730446331317, 0.0365717727013758, 0.03572152467851665, 0.03508478088971778, 0.03428803998744531, 0.033502312066944546, 0.03296646208199104, 0.03209050945145792, 0.031379952779363035, 0.030622967201173797, 0.029709088642725714, 0.028889471808887627, 0.027917814238361257, 0.02706690555309427, 0.026113101718212166, 0.02516208922830315, 0.02416379763933307, 0.022922087033262383, 0.02186758827722443, 0.02044161762074886, 0.019397556298635803, 0.01804756735303285, 0.016992581720042928, 0.01551192807088655, 0.014045647750338612, 0.011927400366410915, 0.010078741523109069, 0.007400760011058896, 0.004259525036206759]\n",
      "the optimal dimension at 0.05 accuracy level is 135\n",
      "the MSE of curve fitting is 7.74070708881614e-05\n"
     ]
    }
   ],
   "source": [
    "cal_embedding_distance(args)\n",
    "# The result is not good. Because the football network has 115 nodes only. "
   ]
  }
 ],
 "metadata": {
  "kernelspec": {
   "display_name": "Python 3 (ipykernel)",
   "language": "python",
   "name": "python3"
  },
  "language_info": {
   "codemirror_mode": {
    "name": "ipython",
    "version": 3
   },
   "file_extension": ".py",
   "mimetype": "text/x-python",
   "name": "python",
   "nbconvert_exporter": "python",
   "pygments_lexer": "ipython3",
   "version": "3.10.10"
  }
 },
 "nbformat": 4,
 "nbformat_minor": 5
}
